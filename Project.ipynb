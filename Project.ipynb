{
 "cells": [
  {
   "cell_type": "code",
   "execution_count": null,
   "id": "193cd74d",
   "metadata": {},
   "outputs": [],
   "source": [
    "#Maia's edit"
   ]
  },
  {
   "cell_type": "code",
   "execution_count": null,
   "id": "d571c7b3",
   "metadata": {},
   "outputs": [],
   "source": [
    "# meeraa's chk"
   ]
  }
 ],
 "metadata": {
  "kernelspec": {
   "display_name": "Python 3 (ipykernel)",
   "language": "python",
   "name": "python3"
  },
  "language_info": {
   "codemirror_mode": {
    "name": "ipython",
    "version": 3
   },
   "file_extension": ".py",
   "mimetype": "text/x-python",
   "name": "python",
   "nbconvert_exporter": "python",
   "pygments_lexer": "ipython3",
   "version": "3.11.4"
  }
 },
 "nbformat": 4,
 "nbformat_minor": 5
}
