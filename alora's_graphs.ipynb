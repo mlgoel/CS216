{
 "cells": [
  {
   "cell_type": "code",
   "execution_count": null,
   "id": "bc6bb015",
   "metadata": {},
   "outputs": [],
   "source": [
    "import matplotlib.pyplot as plt\n",
    "\n",
    "# We can do this with diag 2, and diag 3?\n",
    "\n",
    "# Group data by age and count occurrences of diag_1 within each age group\n",
    "age_diag_counts = diabetes.groupby('age')['diag_1'].value_counts().unstack().fillna(0)\n",
    "\n",
    "# Plotting the distribution of diag_1 across different age groups\n",
    "age_diag_counts.plot(kind='bar', figsize=(12, 8), width=0.8)  # Adjust width if needed\n",
    "plt.title('Distribution of Diag_1 across Age Groups')\n",
    "plt.xlabel('Age Groups')\n",
    "plt.ylabel('Frequency')\n",
    "plt.legend(title='Diag_1', bbox_to_anchor=(1, 1), loc='upper left')\n",
    "plt.xticks(rotation=45)  # Rotate x-axis labels for better readability\n",
    "plt.tight_layout()  # Adjusts the plot to fit the figure area\n",
    "plt.show()"
   ]
  },
  {
   "cell_type": "code",
   "execution_count": null,
   "id": "691985a9",
   "metadata": {},
   "outputs": [],
   "source": [
    "# Group data by age and count occurrences of diag_1 within each age group\n",
    "age_diag_counts = diabetes.groupby('age')['diag_1'].value_counts().unstack().fillna(0)\n",
    "\n",
    "# Create an empty dictionary to store top diagnoses for each age group\n",
    "top_diagnoses_by_age = {}\n",
    "\n",
    "# Loop through each age group and find the top diagnosis\n",
    "for age_group, counts in age_diag_counts.iterrows():\n",
    "    top_diagnosis = counts.nlargest(3)  # Get top 3 diagnoses for each age group\n",
    "    top_diagnoses_by_age[age_group] = top_diagnosis\n",
    "\n",
    "# Display top diagnoses for each age group\n",
    "for age_group, top_diagnosis in top_diagnoses_by_age.items():\n",
    "    print(f\"Age Group: {age_group}\")\n",
    "    print(top_diagnosis)\n",
    "    print()"
   ]
  },
  {
   "cell_type": "code",
   "execution_count": null,
   "id": "52a1314f",
   "metadata": {},
   "outputs": [],
   "source": [
    "import matplotlib.pyplot as plt\n",
    "\n",
    "# Group data by race and count occurrences of diag_1 within each race group\n",
    "race_diag1_counts = diabetes.groupby('race')['diag_1'].value_counts().unstack().fillna(0)\n",
    "\n",
    "# Plotting the distribution of diag_1 across different race groups\n",
    "plt.figure(figsize=(12, 8))\n",
    "race_diag1_counts.plot(kind='bar', stacked=True, width=0.8)\n",
    "plt.title('Distribution of Diag_1 across Race Groups')\n",
    "plt.xlabel('Race Groups')\n",
    "plt.ylabel('Frequency')\n",
    "plt.legend(title='Diag_1', bbox_to_anchor=(1, 1), loc='upper left')\n",
    "plt.xticks(rotation=45)\n",
    "plt.tight_layout()\n",
    "plt.show()\n"
   ]
  },
  {
   "cell_type": "code",
   "execution_count": null,
   "id": "7d469dc3",
   "metadata": {},
   "outputs": [],
   "source": [
    "# Group data by race and count occurrences of diag_1 within each race group\n",
    "race_diag1_counts = diabetes.groupby('race')['diag_1'].value_counts().unstack().fillna(0)\n",
    "\n",
    "# Finding the most frequent diagnosis for each race\n",
    "for race in race_diag1_counts.index:\n",
    "    most_frequent_diag = race_diag1_counts.loc[race].idxmax()\n",
    "    print(f\"Most frequent diagnosis for {race}: {most_frequent_diag}\")\n"
   ]
  },
  {
   "cell_type": "code",
   "execution_count": null,
   "id": "93d048bd",
   "metadata": {},
   "outputs": [],
   "source": [
    "import matplotlib.pyplot as plt\n",
    "\n",
    "# can do this with other factors and other diags\n",
    "\n",
    "# Filter the data for occurrences of diagnosis code '250' and group by race\n",
    "diagnosis_250_race_counts = diabetes[diabetes['diag_1'] == '250']['race'].value_counts()\n",
    "\n",
    "# Plotting a bar plot for the occurrences of diagnosis code '250' among different races\n",
    "plt.figure(figsize=(8, 6))\n",
    "diagnosis_250_race_counts.plot(kind='bar', color='skyblue')\n",
    "plt.title('Distribution of Diagnosis Code 250 Across Races')\n",
    "plt.xlabel('Race')\n",
    "plt.ylabel('Frequency')\n",
    "plt.xticks(rotation=45)\n",
    "plt.tight_layout()\n",
    "plt.show()"
   ]
  },
  {
   "cell_type": "code",
   "execution_count": null,
   "id": "0abfa0f0",
   "metadata": {},
   "outputs": [],
   "source": [
    "import matplotlib.pyplot as plt\n",
    "\n",
    "# Count total occurrences of each race in the dataset\n",
    "total_race_counts = diabetes['race'].value_counts()\n",
    "\n",
    "# Count occurrences of diagnosis code '250' for each race\n",
    "diagnosis_250_race_counts = diabetes[diabetes['diag_1'] == '250']['race'].value_counts()\n",
    "\n",
    "# Calculate proportions\n",
    "diagnosis_250_race_proportions = diagnosis_250_race_counts / total_race_counts\n",
    "\n",
    "# Plotting a bar plot for the proportions of each race that had diagnosis code '250'\n",
    "plt.figure(figsize=(8, 6))\n",
    "diagnosis_250_race_proportions.plot(kind='bar', color='skyblue')\n",
    "plt.title('Proportion of Each Race with Diagnosis Code 250')\n",
    "plt.xlabel('Race')\n",
    "plt.ylabel('Proportion')\n",
    "plt.xticks(rotation=45)\n",
    "plt.tight_layout()\n",
    "plt.show()"
   ]
  }
 ],
 "metadata": {
  "kernelspec": {
   "display_name": "Python 3 (ipykernel)",
   "language": "python",
   "name": "python3"
  },
  "language_info": {
   "codemirror_mode": {
    "name": "ipython",
    "version": 3
   },
   "file_extension": ".py",
   "mimetype": "text/x-python",
   "name": "python",
   "nbconvert_exporter": "python",
   "pygments_lexer": "ipython3",
   "version": "3.11.4"
  }
 },
 "nbformat": 4,
 "nbformat_minor": 5
}
