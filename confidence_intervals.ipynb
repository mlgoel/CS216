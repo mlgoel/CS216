{
 "cells": [
  {
   "cell_type": "code",
   "execution_count": 30,
   "id": "74344705",
   "metadata": {},
   "outputs": [],
   "source": [
    "import numpy as np\n",
    "import pandas as pd\n",
    "import seaborn as sns"
   ]
  },
  {
   "cell_type": "code",
   "execution_count": 31,
   "id": "b8ab47a6",
   "metadata": {},
   "outputs": [
    {
     "data": {
      "text/plain": [
       "<Axes: >"
      ]
     },
     "execution_count": 31,
     "metadata": {},
     "output_type": "execute_result"
    },
    {
     "data": {
      "image/png": "[encoded data removed]",
      "text/plain": [
       "<Figure size 640x480 with 1 Axes>"
      ]
     },
     "metadata": {},
     "output_type": "display_data"
    }
   ],
   "source": [
    "diabetes = pd.read_csv('diabetic_data.csv')\n",
    "\n",
    "\n",
    "diabetes[\"time_in_hospital\"].hist()"
   ]
  },
  {
   "cell_type": "code",
   "execution_count": 38,
   "id": "a36ad32e",
   "metadata": {},
   "outputs": [
    {
     "name": "stdout",
     "output_type": "stream",
     "text": [
      "(4.7466, 4.8654)\n",
      "(4.2531525, 4.3694)\n"
     ]
    }
   ],
   "source": [
    "# presence of 428 - Congestive heart failure, unspecified\n",
    "\n",
    "num_bootstraps = 10000\n",
    "\n",
    "mask = (diabetes[\"diag_1\"] == \"428\") | (diabetes[\"diag_2\"] == \"428\") | (diabetes[\"diag_3\"] == \"428\")\n",
    "\n",
    "present_428 = diabetes[mask][\"time_in_hospital\"].dropna()\n",
    "not_present_428 = diabetes[~mask][\"time_in_hospital\"].dropna()\n",
    "\n",
    "\n",
    "\n",
    "present_samples = np.random.choice(present_428, size = (num_bootstraps, len(present_428)), replace = True)\n",
    "\n",
    "present_means = np.mean(present_samples, axis=0)\n",
    "\n",
    "present_interval = np.percentile(present_means, 2.5), np.percentile(present_means, 97.5)\n",
    "\n",
    "\n",
    "not_present_samples = np.random.choice(not_present_428, size = (num_bootstraps, len(not_present_428)), replace = True)\n",
    "not_present_mean = np.mean(not_present_samples, axis=0)\n",
    "\n",
    "not_present_interval = np.percentile(not_present_mean, 2.5), np.percentile(not_present_mean, 97.5)\n",
    "\n",
    "print(present_interval)\n",
    "print(not_present_interval)"
   ]
  },
  {
   "cell_type": "code",
   "execution_count": 39,
   "id": "767f60e8",
   "metadata": {},
   "outputs": [
    {
     "name": "stdout",
     "output_type": "stream",
     "text": [
      "(3.4446, 3.5501)\n",
      "(4.4614, 4.5791)\n"
     ]
    }
   ],
   "source": [
    "# presence of 414 - Coronary atherosclerosis of unspecified type of vessel, native or graft\n",
    "\n",
    "num_bootstraps = 10000\n",
    "\n",
    "mask = (diabetes[\"diag_1\"] == \"414\") | (diabetes[\"diag_2\"] == \"414\") | (diabetes[\"diag_3\"] == \"414\")\n",
    "\n",
    "present_414 = diabetes[mask][\"time_in_hospital\"].dropna()\n",
    "not_present_414 = diabetes[~mask][\"time_in_hospital\"].dropna()\n",
    "\n",
    "\n",
    "\n",
    "present_samples = np.random.choice(present_414, size = (num_bootstraps, len(present_414)), replace = True)\n",
    "\n",
    "present_means = np.mean(present_samples, axis=0)\n",
    "\n",
    "present_interval = np.percentile(present_means, 2.5), np.percentile(present_means, 97.5)\n",
    "\n",
    "\n",
    "not_present_samples = np.random.choice(not_present_414, size = (num_bootstraps, len(not_present_414)), replace = True)\n",
    "not_present_mean = np.mean(not_present_samples, axis=0)\n",
    "\n",
    "not_present_interval = np.percentile(not_present_mean, 2.5), np.percentile(not_present_mean, 97.5)\n",
    "\n",
    "print(present_interval)\n",
    "print(not_present_interval)"
   ]
  },
  {
   "cell_type": "code",
   "execution_count": 40,
   "id": "701c7344",
   "metadata": {},
   "outputs": [
    {
     "name": "stdout",
     "output_type": "stream",
     "text": [
      "(4.4132, 4.5294)\n",
      "(4.3286, 4.446)\n"
     ]
    }
   ],
   "source": [
    "# presence of 427 - Paroxysmal supraventricular tachycardia\n",
    "\n",
    "num_bootstraps = 10000\n",
    "\n",
    "mask = (diabetes[\"diag_1\"] == \"427\") | (diabetes[\"diag_2\"] == \"427\") | (diabetes[\"diag_3\"] == \"427\")\n",
    "\n",
    "present_427 = diabetes[mask][\"time_in_hospital\"].dropna()\n",
    "not_present_427 = diabetes[~mask][\"time_in_hospital\"].dropna()\n",
    "\n",
    "\n",
    "\n",
    "present_samples = np.random.choice(present_427, size = (num_bootstraps, len(present_427)), replace = True)\n",
    "\n",
    "present_means = np.mean(present_samples, axis=0)\n",
    "\n",
    "present_interval = np.percentile(present_means, 2.5), np.percentile(present_means, 97.5)\n",
    "\n",
    "\n",
    "not_present_samples = np.random.choice(not_present_427, size = (num_bootstraps, len(not_present_427)), replace = True)\n",
    "not_present_mean = np.mean(not_present_samples, axis=0)\n",
    "\n",
    "not_present_interval = np.percentile(not_present_mean, 2.5), np.percentile(not_present_mean, 97.5)\n",
    "\n",
    "print(present_interval)\n",
    "print(not_present_interval)"
   ]
  },
  {
   "cell_type": "code",
   "execution_count": 41,
   "id": "fd1aa4b9",
   "metadata": {},
   "outputs": [
    {
     "name": "stdout",
     "output_type": "stream",
     "text": [
      "(3.2776, 3.36835)\n",
      "(4.5648, 4.6844)\n"
     ]
    }
   ],
   "source": [
    "# presence of 250  - Diabetes mellitus without mention of complication, type II or unspecified type, not stated as uncontrolled\n",
    "\n",
    "num_bootstraps = 10000\n",
    "\n",
    "mask = (diabetes[\"diag_1\"] == \"250\") | (diabetes[\"diag_2\"] == \"250\") | (diabetes[\"diag_3\"] == \"250\")\n",
    "\n",
    "present_250 = diabetes[mask][\"time_in_hospital\"].dropna()\n",
    "not_present_250 = diabetes[~mask][\"time_in_hospital\"].dropna()\n",
    "\n",
    "\n",
    "\n",
    "present_samples = np.random.choice(present_250, size = (num_bootstraps, len(present_250)), replace = True)\n",
    "\n",
    "present_means = np.mean(present_samples, axis=0)\n",
    "\n",
    "present_interval = np.percentile(present_means, 2.5), np.percentile(present_means, 97.5)\n",
    "\n",
    "\n",
    "not_present_samples = np.random.choice(not_present_250, size = (num_bootstraps, len(not_present_250)), replace = True)\n",
    "not_present_mean = np.mean(not_present_samples, axis=0)\n",
    "\n",
    "not_present_interval = np.percentile(not_present_mean, 2.5), np.percentile(not_present_mean, 97.5)\n",
    "\n",
    "print(present_interval)\n",
    "print(not_present_interval)"
   ]
  },
  {
   "cell_type": "code",
   "execution_count": null,
   "id": "0b298e46",
   "metadata": {},
   "outputs": [],
   "source": []
  }
 ],
 "metadata": {
  "kernelspec": {
   "display_name": "Python 3 (ipykernel)",
   "language": "python",
   "name": "python3"
  },
  "language_info": {
   "codemirror_mode": {
    "name": "ipython",
    "version": 3
   },
   "file_extension": ".py",
   "mimetype": "text/x-python",
   "name": "python",
   "nbconvert_exporter": "python",
   "pygments_lexer": "ipython3",
   "version": "3.11.4"
  }
 },
 "nbformat": 4,
 "nbformat_minor": 5
}
