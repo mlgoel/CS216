{
 "cells": [
  {
   "cell_type": "code",
   "execution_count": 1,
   "id": "e438270c",
   "metadata": {},
   "outputs": [],
   "source": [
    "import numpy as np\n",
    "import pandas as pd"
   ]
  },
  {
   "cell_type": "code",
   "execution_count": 47,
   "id": "193cd74d",
   "metadata": {},
   "outputs": [
    {
     "data": {
      "text/plain": [
       "0         250.83\n",
       "1            276\n",
       "2            648\n",
       "3              8\n",
       "4            197\n",
       "           ...  \n",
       "101761    250.13\n",
       "101762       560\n",
       "101763        38\n",
       "101764       996\n",
       "101765       530\n",
       "Name: diag_1, Length: 101766, dtype: object"
      ]
     },
     "execution_count": 47,
     "metadata": {},
     "output_type": "execute_result"
    }
   ],
   "source": [
    "diabetes = pd.read_csv('diabetic_data.csv')\n",
    "admission_type_mapping = pd.read_csv(\"IDS_mapping_admission_type.csv\")\n",
    "admission_source_mapping = pd.read_csv(\"IDS_mapping_admission_source.csv\")\n",
    "discharge_mapping = pd.read_csv(\"IDF_mapping_discharge.csv\")\n",
    "\n",
    "diabetes[\"diag_1\"]\n",
    "#print(admission_type_mapping)\n",
    "#print(admission_source_mapping)\n",
    "#print(discharge_mapping)\n",
    "#print(diabetes)"
   ]
  },
  {
   "cell_type": "code",
   "execution_count": 46,
   "id": "d571c7b3",
   "metadata": {},
   "outputs": [
    {
     "name": "stdout",
     "output_type": "stream",
     "text": [
      "        encounter_id  patient_nbr             race  gender      age weight  \\\n",
      "0            2278392      8222157        Caucasian  Female   [0-10)      ?   \n",
      "1             149190     55629189        Caucasian  Female  [10-20)      ?   \n",
      "2              64410     86047875  AfricanAmerican  Female  [20-30)      ?   \n",
      "3             500364     82442376        Caucasian    Male  [30-40)      ?   \n",
      "4              16680     42519267        Caucasian    Male  [40-50)      ?   \n",
      "...              ...          ...              ...     ...      ...    ...   \n",
      "101761     443847548    100162476  AfricanAmerican    Male  [70-80)      ?   \n",
      "101762     443847782     74694222  AfricanAmerican  Female  [80-90)      ?   \n",
      "101763     443854148     41088789        Caucasian    Male  [70-80)      ?   \n",
      "101764     443857166     31693671        Caucasian  Female  [80-90)      ?   \n",
      "101765     443867222    175429310        Caucasian    Male  [70-80)      ?   \n",
      "\n",
      "        admission_type_id  discharge_disposition_id  admission_source_id  \\\n",
      "0                       6                        25                    1   \n",
      "1                       1                         1                    7   \n",
      "2                       1                         1                    7   \n",
      "3                       1                         1                    7   \n",
      "4                       1                         1                    7   \n",
      "...                   ...                       ...                  ...   \n",
      "101761                  1                         3                    7   \n",
      "101762                  1                         4                    5   \n",
      "101763                  1                         1                    7   \n",
      "101764                  2                         3                    7   \n",
      "101765                  1                         1                    7   \n",
      "\n",
      "        time_in_hospital  ... glipizide-metformin glimepiride-pioglitazone  \\\n",
      "0                      1  ...                  No                       No   \n",
      "1                      3  ...                  No                       No   \n",
      "2                      2  ...                  No                       No   \n",
      "3                      2  ...                  No                       No   \n",
      "4                      1  ...                  No                       No   \n",
      "...                  ...  ...                 ...                      ...   \n",
      "101761                 3  ...                  No                       No   \n",
      "101762                 5  ...                  No                       No   \n",
      "101763                 1  ...                  No                       No   \n",
      "101764                10  ...                  No                       No   \n",
      "101765                 6  ...                  No                       No   \n",
      "\n",
      "        metformin-rosiglitazone  metformin-pioglitazone  change  diabetesMed  \\\n",
      "0                            No                      No      No           No   \n",
      "1                            No                      No      Ch          Yes   \n",
      "2                            No                      No      No          Yes   \n",
      "3                            No                      No      Ch          Yes   \n",
      "4                            No                      No      Ch          Yes   \n",
      "...                         ...                     ...     ...          ...   \n",
      "101761                       No                      No      Ch          Yes   \n",
      "101762                       No                      No      No          Yes   \n",
      "101763                       No                      No      Ch          Yes   \n",
      "101764                       No                      No      Ch          Yes   \n",
      "101765                       No                      No      No           No   \n",
      "\n",
      "        readmitted  admission_type_description  \\\n",
      "0               NO                         NaN   \n",
      "1              >30                   Emergency   \n",
      "2               NO                   Emergency   \n",
      "3               NO                   Emergency   \n",
      "4               NO                   Emergency   \n",
      "...            ...                         ...   \n",
      "101761         >30                   Emergency   \n",
      "101762          NO                   Emergency   \n",
      "101763          NO                   Emergency   \n",
      "101764          NO                      Urgent   \n",
      "101765          NO                   Emergency   \n",
      "\n",
      "                           admission_source_description  \\\n",
      "0                                    Physician Referral   \n",
      "1                                        Emergency Room   \n",
      "2                                        Emergency Room   \n",
      "3                                        Emergency Room   \n",
      "4                                        Emergency Room   \n",
      "...                                                 ...   \n",
      "101761                                   Emergency Room   \n",
      "101762   Transfer from a Skilled Nursing Facility (SNF)   \n",
      "101763                                   Emergency Room   \n",
      "101764                                   Emergency Room   \n",
      "101765                                   Emergency Room   \n",
      "\n",
      "                discharge_description  \n",
      "0                          Not Mapped  \n",
      "1                  Discharged to home  \n",
      "2                  Discharged to home  \n",
      "3                  Discharged to home  \n",
      "4                  Discharged to home  \n",
      "...                               ...  \n",
      "101761  Discharged/transferred to SNF  \n",
      "101762  Discharged/transferred to ICF  \n",
      "101763             Discharged to home  \n",
      "101764  Discharged/transferred to SNF  \n",
      "101765             Discharged to home  \n",
      "\n",
      "[101766 rows x 53 columns]\n"
     ]
    }
   ],
   "source": [
    "# mapping data\n",
    "\n",
    "diabetes = diabetes.merge(admission_type_mapping, on = \"admission_type_id\", how = \"left\")\n",
    "diabetes = diabetes.rename(columns = {\"description\":\"admission_type_description\"})\n",
    "\n",
    "diabetes = diabetes.merge(admission_source_mapping, on = \"admission_source_id\", how = \"left\")\n",
    "diabetes = diabetes.rename(columns = {\"description\":\"admission_source_description\"})\n",
    "\n",
    "diabetes = diabetes.merge(discharge_mapping, on = \"discharge_disposition_id\", how = \"left\")\n",
    "diabetes = diabetes.rename(columns = {\"description\":\"discharge_description\"})\n",
    "\n",
    "print(diabetes)"
   ]
  },
  {
   "cell_type": "code",
   "execution_count": null,
   "id": "1841299e",
   "metadata": {},
   "outputs": [],
   "source": []
  }
 ],
 "metadata": {
  "kernelspec": {
   "display_name": "Python 3 (ipykernel)",
   "language": "python",
   "name": "python3"
  },
  "language_info": {
   "codemirror_mode": {
    "name": "ipython",
    "version": 3
   },
   "file_extension": ".py",
   "mimetype": "text/x-python",
   "name": "python",
   "nbconvert_exporter": "python",
   "pygments_lexer": "ipython3",
   "version": "3.11.4"
  }
 },
 "nbformat": 4,
 "nbformat_minor": 5
}
