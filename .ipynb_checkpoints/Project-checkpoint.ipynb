{
 "cells": [
  {
   "cell_type": "code",
   "execution_count": 1,
   "id": "ba42c18b",
   "metadata": {},
   "outputs": [],
   "source": [
    "import numpy as np\n",
    "import pandas as pd"
   ]
  },
  {
   "cell_type": "code",
   "execution_count": 27,
   "id": "193cd74d",
   "metadata": {},
   "outputs": [
    {
     "name": "stdout",
     "output_type": "stream",
     "text": [
      "   admission_type_id                                        description\n",
      "0                  1                                          Emergency\n",
      "1                  2                                             Urgent\n",
      "2                  3                                           Elective\n",
      "3                  4                                            Newborn\n",
      "4                  5                                      Not Available\n",
      "..               ...                                                ...\n",
      "62                22   Transfer from hospital inpt/same fac reslt in...\n",
      "63                23                          Born inside this hospital\n",
      "64                24                         Born outside this hospital\n",
      "65                25            Transfer from Ambulatory Surgery Center\n",
      "66                26                              Transfer from Hospice\n",
      "\n",
      "[67 rows x 2 columns]\n"
     ]
    }
   ],
   "source": [
    "diabetes = pd.read_csv('diabetic_data.csv')\n",
    "mapping = pd.read_csv(\"IDS_mapping.csv\")\n",
    "\n",
    "#diabetes[\"diag_1\"]\n",
    "print(mapping)\n",
    "#print(diabetes)"
   ]
  },
  {
   "cell_type": "code",
   "execution_count": 30,
   "id": "d571c7b3",
   "metadata": {},
   "outputs": [
    {
     "name": "stdout",
     "output_type": "stream",
     "text": [
      "<class 'str'>\n"
     ]
    }
   ],
   "source": [
    "\n",
    "\n",
    "print(type(diabetes[\"admission_type_id\"].astype(str)[0]))\n",
    "#print(mapping[mapping[\"admission_type_id\"]])\n",
    "\n",
    "#diabetes = diabetes.merge(mapping, on = \"admission_type_id\", how = \"left\")\n",
    "\n",
    "#print(diabetes)"
   ]
  },
  {
   "cell_type": "code",
   "execution_count": null,
   "id": "ae7dc7cf",
   "metadata": {},
   "outputs": [],
   "source": []
  }
 ],
 "metadata": {
  "kernelspec": {
   "display_name": "Python 3 (ipykernel)",
   "language": "python",
   "name": "python3"
  },
  "language_info": {
   "codemirror_mode": {
    "name": "ipython",
    "version": 3
   },
   "file_extension": ".py",
   "mimetype": "text/x-python",
   "name": "python",
   "nbconvert_exporter": "python",
   "pygments_lexer": "ipython3",
   "version": "3.11.4"
  }
 },
 "nbformat": 4,
 "nbformat_minor": 5
}
