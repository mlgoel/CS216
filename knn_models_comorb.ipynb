{
 "cells": [
  {
   "cell_type": "code",
   "execution_count": 2,
   "metadata": {},
   "outputs": [],
   "source": [
    "import pandas as pd\n",
    "from sklearn.model_selection import train_test_split\n",
    "from sklearn.neighbors import KNeighborsClassifier\n",
    "from sklearn.preprocessing import LabelEncoder\n",
    "from sklearn.metrics import accuracy_score, classification_report, confusion_matrix\n",
    "from sklearn.model_selection import GridSearchCV\n",
    "from sklearn.metrics import ConfusionMatrixDisplay"
   ]
  },
  {
   "cell_type": "code",
   "execution_count": 15,
   "metadata": {},
   "outputs": [],
   "source": [
    "file_path = 'diabetic_data.csv' \n",
    "diabetes = pd.read_csv(file_path)"
   ]
  },
  {
   "cell_type": "code",
   "execution_count": 17,
   "metadata": {},
   "outputs": [
    {
     "name": "stderr",
     "output_type": "stream",
     "text": [
      "/Users/Maia/anaconda3/lib/python3.11/site-packages/sklearn/metrics/_classification.py:1469: UndefinedMetricWarning: Precision and F-score are ill-defined and being set to 0.0 in labels with no predicted samples. Use `zero_division` parameter to control this behavior.\n",
      "  _warn_prf(average, modifier, msg_start, len(result))\n",
      "/Users/Maia/anaconda3/lib/python3.11/site-packages/sklearn/metrics/_classification.py:1469: UndefinedMetricWarning: Precision and F-score are ill-defined and being set to 0.0 in labels with no predicted samples. Use `zero_division` parameter to control this behavior.\n",
      "  _warn_prf(average, modifier, msg_start, len(result))\n",
      "/Users/Maia/anaconda3/lib/python3.11/site-packages/sklearn/metrics/_classification.py:1469: UndefinedMetricWarning: Precision and F-score are ill-defined and being set to 0.0 in labels with no predicted samples. Use `zero_division` parameter to control this behavior.\n",
      "  _warn_prf(average, modifier, msg_start, len(result))\n"
     ]
    },
    {
     "name": "stdout",
     "output_type": "stream",
     "text": [
      "Accuracy: 0.54\n",
      "Confusion Matrix:\n",
      "[[    0   178  2107]\n",
      " [    0   569  6548]\n",
      " [    0   543 10409]]\n",
      "Classification Report:\n",
      "              precision    recall  f1-score   support\n",
      "\n",
      "         <30       0.00      0.00      0.00      2285\n",
      "         >30       0.44      0.08      0.14      7117\n",
      "          NO       0.55      0.95      0.69     10952\n",
      "\n",
      "    accuracy                           0.54     20354\n",
      "   macro avg       0.33      0.34      0.28     20354\n",
      "weighted avg       0.45      0.54      0.42     20354\n",
      "\n"
     ]
    },
    {
     "data": {
      "image/png": "[encoded data removed]",
      "text/plain": [
       "<Figure size 640x480 with 2 Axes>"
      ]
     },
     "metadata": {},
     "output_type": "display_data"
    }
   ],
   "source": [
    "# presence of 428 - Congestive heart failure, unspecified\n",
    "\n",
    "diabetes[\"diag_1_428\"] = diabetes[\"diag_1\"] == \"428\"\n",
    "diabetes[\"diag_2_428\"] = diabetes[\"diag_2\"] == \"428\"\n",
    "diabetes[\"diag_3_428\"] = diabetes[\"diag_3\"] == \"428\"\n",
    "\n",
    "features = [\"diag_1_428\", \"diag_2_428\", \"diag_3_428\"]\n",
    "\n",
    "\n",
    "data = diabetes[features].values\n",
    "# just added the ordinal encoder so it might not work? But it's categorical so we should encode\n",
    "target = OrdinalEncoder(categories=[[\"<30\", \">30\", \"NO\"]]).fit_transform(diabetes[[\"readmitted\"]].values)\n",
    "\n",
    "\n",
    "data_train, data_test, target_train, target_test = train_test_split(data, target, test_size=0.2, random_state=42)\n",
    "\n",
    "possible_parameters = {\"n_neighbors\" : range(2, 21)}\n",
    "\n",
    "model = GridSearchCV(estimator = KNeighborsClassifier(), param_grid = possible_parameters)\n",
    "model.fit(data_train, target_train)\n",
    "\n",
    "y_pred = model.predict(data_test)\n",
    "\n",
    "accuracy = accuracy_score(target_test, y_pred)\n",
    "conf_matrix = confusion_matrix(target_test, y_pred)\n",
    "classification_rep = classification_report(target_test, y_pred)\n",
    "\n",
    "ConfusionMatrixDisplay.from_estimator(estimator = model, X = data_test, y = target_test)\n",
    "\n",
    "print(f'Accuracy: {accuracy:.2f}')\n",
    "print(f'Confusion Matrix:\\n{conf_matrix}')\n",
    "print(f'Classification Report:\\n{classification_rep}')\n"
   ]
  },
  {
   "cell_type": "code",
   "execution_count": null,
   "metadata": {},
   "outputs": [],
   "source": [
    "# presence of 414 - \n",
    "\n",
    "diabetes[\"diag_1_414\"] = diabetes[\"diag_1\"] == \"414\"\n",
    "diabetes[\"diag_2_414\"] = diabetes[\"diag_2\"] == \"414\"\n",
    "diabetes[\"diag_3_414\"] = diabetes[\"diag_3\"] == \"414\"\n",
    "\n",
    "features = [\"diag_1_414\", \"diag_2_414\", \"diag_3_414\"]\n",
    "\n",
    "\n",
    "data = diabetes[features].values\n",
    "# just added the ordinal encoder so it might not work? But it's categorical so we should encode\n",
    "target = OrdinalEncoder(categories=[[\"<30\", \">30\", \"NO\"]]).fit_transform(diabetes[[\"readmitted\"]].values)\n",
    "\n",
    "\n",
    "data_train, data_test, target_train, target_test = train_test_split(data, target, test_size=0.2, random_state=42)\n",
    "\n",
    "possible_parameters = {\"n_neighbors\" : range(2, 21)}\n",
    "\n",
    "model = GridSearchCV(estimator = KNeighborsClassifier(), param_grid = possible_parameters)\n",
    "model.fit(data_train, target_train)\n",
    "\n",
    "y_pred = model.predict(data_test)\n",
    "\n",
    "accuracy = accuracy_score(target_test, y_pred)\n",
    "conf_matrix = confusion_matrix(target_test, y_pred)\n",
    "classification_rep = classification_report(target_test, y_pred)\n",
    "\n",
    "ConfusionMatrixDisplay.from_estimator(estimator = model, X = data_test, y = target_test)\n",
    "\n",
    "print(f'Accuracy: {accuracy:.2f}')\n",
    "print(f'Confusion Matrix:\\n{conf_matrix}')\n",
    "print(f'Classification Report:\\n{classification_rep}')"
   ]
  },
  {
   "cell_type": "code",
   "execution_count": null,
   "metadata": {},
   "outputs": [],
   "source": [
    "# presence of 427 - \n",
    "\n",
    "diabetes[\"diag_1_427\"] = diabetes[\"diag_1\"] == \"427\"\n",
    "diabetes[\"diag_2_427\"] = diabetes[\"diag_2\"] == \"427\"\n",
    "diabetes[\"diag_3_427\"] = diabetes[\"diag_3\"] == \"427\"\n",
    "\n",
    "features = [\"diag_1_427\", \"diag_2_427\", \"diag_3_427\"]\n",
    "\n",
    "\n",
    "data = diabetes[features].values\n",
    "# just added the ordinal encoder so it might not work? But it's categorical so we should encode\n",
    "target = OrdinalEncoder(categories=[[\"<30\", \">30\", \"NO\"]]).fit_transform(diabetes[[\"readmitted\"]].values)\n",
    "\n",
    "\n",
    "data_train, data_test, target_train, target_test = train_test_split(data, target, test_size=0.2, random_state=42)\n",
    "\n",
    "possible_parameters = {\"n_neighbors\" : range(2, 21)}\n",
    "\n",
    "model = GridSearchCV(estimator = KNeighborsClassifier(), param_grid = possible_parameters)\n",
    "model.fit(data_train, target_train)\n",
    "\n",
    "y_pred = model.predict(data_test)\n",
    "\n",
    "accuracy = accuracy_score(target_test, y_pred)\n",
    "conf_matrix = confusion_matrix(target_test, y_pred)\n",
    "classification_rep = classification_report(target_test, y_pred)\n",
    "\n",
    "ConfusionMatrixDisplay.from_estimator(estimator = model, X = data_test, y = target_test)\n",
    "\n",
    "print(f'Accuracy: {accuracy:.2f}')\n",
    "print(f'Confusion Matrix:\\n{conf_matrix}')\n",
    "print(f'Classification Report:\\n{classification_rep}')"
   ]
  },
  {
   "cell_type": "code",
   "execution_count": null,
   "metadata": {},
   "outputs": [],
   "source": [
    "# presence of 250 (DIAG 1 MISSING) - \n",
    "\n",
    "diabetes[\"diag_1_250\"] = diabetes[\"diag_1\"] == \"250\"\n",
    "diabetes[\"diag_2_250\"] = diabetes[\"diag_2\"] == \"250\"\n",
    "diabetes[\"diag_3_250\"] = diabetes[\"diag_3\"] == \"250\"\n",
    "\n",
    "features = [\"diag_1_250\", \"diag_2_250\", \"diag_3_250\"]\n",
    "\n",
    "\n",
    "data = diabetes[features].values\n",
    "# just added the ordinal encoder so it might not work? But it's categorical so we should encode\n",
    "target = OrdinalEncoder(categories=[[\"<30\", \">30\", \"NO\"]]).fit_transform(diabetes[[\"readmitted\"]].values)\n",
    "\n",
    "\n",
    "data_train, data_test, target_train, target_test = train_test_split(data, target, test_size=0.2, random_state=42)\n",
    "\n",
    "possible_parameters = {\"n_neighbors\" : range(2, 21)}\n",
    "\n",
    "model = GridSearchCV(estimator = KNeighborsClassifier(), param_grid = possible_parameters)\n",
    "model.fit(data_train, target_train)\n",
    "\n",
    "y_pred = model.predict(data_test)\n",
    "\n",
    "accuracy = accuracy_score(target_test, y_pred)\n",
    "conf_matrix = confusion_matrix(target_test, y_pred)\n",
    "classification_rep = classification_report(target_test, y_pred)\n",
    "\n",
    "ConfusionMatrixDisplay.from_estimator(estimator = model, X = data_test, y = target_test)\n",
    "\n",
    "print(f'Accuracy: {accuracy:.2f}')\n",
    "print(f'Confusion Matrix:\\n{conf_matrix}')\n",
    "print(f'Classification Report:\\n{classification_rep}')"
   ]
  }
 ],
 "metadata": {
  "kernelspec": {
   "display_name": "Python 3 (ipykernel)",
   "language": "python",
   "name": "python3"
  },
  "language_info": {
   "codemirror_mode": {
    "name": "ipython",
    "version": 3
   },
   "file_extension": ".py",
   "mimetype": "text/x-python",
   "name": "python",
   "nbconvert_exporter": "python",
   "pygments_lexer": "ipython3",
   "version": "3.11.4"
  }
 },
 "nbformat": 4,
 "nbformat_minor": 2
}
