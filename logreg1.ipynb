{
 "cells": [
  {
   "cell_type": "code",
   "execution_count": null,
   "metadata": {},
   "outputs": [],
   "source": [
    "import pandas as pd\n",
    "from sklearn.model_selection import train_test_split\n",
    "from sklearn.linear_model import LogisticRegression\n",
    "from sklearn.preprocessing import LabelEncoder\n",
    "from sklearn.metrics import accuracy_score, classification_report, confusion_matrix"
   ]
  },
  {
   "cell_type": "code",
   "execution_count": null,
   "metadata": {},
   "outputs": [],
   "source": [
    "file_path = 'diabetic_data.csv'  \n",
    "data = pd.read_csv(file_path)\n",
    "\n",
    "# Selecting features (X) and target variable (y)\n",
    "features = ['diag_1', 'diag_2', 'diag_3']\n",
    "target = 'readmitted'\n",
    "\n",
    "X = data[features]\n",
    "y = data[target]\n",
    "\n",
    "# converting categorical variables to numeric \n",
    "label_encoder = LabelEncoder()\n",
    "X['diag_1'] = label_encoder.fit_transform(X['diag_1'])\n",
    "X['diag_2'] = label_encoder.fit_transform(X['diag_2'])\n",
    "X['diag_3'] = label_encoder.fit_transform(X['diag_3'])\n",
    "y = label_encoder.fit_transform(y)\n",
    "\n",
    "# spliting  data into training and testing sets\n",
    "X_train, X_test, y_train, y_test = train_test_split(X, y, test_size=0.2, random_state=42)\n",
    "\n",
    "model = LogisticRegression()\n",
    "model.fit(X_train, y_train)\n",
    "y_pred = model.predict(X_test)\n",
    "\n",
    "accuracy = accuracy_score(y_test, y_pred)\n",
    "conf_matrix = confusion_matrix(y_test, y_pred)\n",
    "classification_rep = classification_report(y_test, y_pred)\n",
    "\n",
    "print(f'Accuracy: {accuracy:.2f}')\n",
    "print(f'Confusion Matrix:\\n{conf_matrix}')\n",
    "print(f'Classification Report:\\n{classification_rep}')"
   ]
  }
 ],
 "metadata": {
  "language_info": {
   "name": "python"
  }
 },
 "nbformat": 4,
 "nbformat_minor": 2
}
